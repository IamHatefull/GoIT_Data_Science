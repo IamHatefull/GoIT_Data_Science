{
  "nbformat": 4,
  "nbformat_minor": 0,
  "metadata": {
    "colab": {
      "provenance": [],
      "collapsed_sections": []
    },
    "kernelspec": {
      "name": "python3",
      "display_name": "Python 3"
    },
    "language_info": {
      "name": "python"
    }
  },
  "cells": [
    {
      "cell_type": "code",
      "execution_count": null,
      "metadata": {
        "id": "mWbwrZbv3FP-"
      },
      "outputs": [],
      "source": [
        "from tensorflow import keras\n",
        "from keras.models import Sequential\n",
        "from keras.layers import Dense, Flatten, Conv2D, MaxPooling2D, Dropout\n",
        "from keras import optimizers\n",
        "from keras import losses\n",
        "from keras import metrics\n",
        "import tensorflow as tf\n",
        "import numpy as np\n",
        "import matplotlib.pyplot as plt"
      ]
    },
    {
      "cell_type": "code",
      "source": [
        "fashion_mnist = keras.datasets.fashion_mnist\n",
        "\n",
        "# Загружаем датасет\n",
        "(x_train, y_train), (x_test, y_test) = fashion_mnist.load_data()\n",
        "\n",
        "# Нормализуем значения пикселей\n",
        "x_train, x_test = x_train / 255., x_test / 255."
      ],
      "metadata": {
        "colab": {
          "base_uri": "https://localhost:8080/"
        },
        "id": "iSUIgZv23UvO",
        "outputId": "73080937-f2ba-4cbc-db8d-186a5f939f7b"
      },
      "execution_count": null,
      "outputs": [
        {
          "output_type": "stream",
          "name": "stdout",
          "text": [
            "Downloading data from https://storage.googleapis.com/tensorflow/tf-keras-datasets/train-labels-idx1-ubyte.gz\n",
            "32768/29515 [=================================] - 0s 0us/step\n",
            "40960/29515 [=========================================] - 0s 0us/step\n",
            "Downloading data from https://storage.googleapis.com/tensorflow/tf-keras-datasets/train-images-idx3-ubyte.gz\n",
            "26427392/26421880 [==============================] - 0s 0us/step\n",
            "26435584/26421880 [==============================] - 0s 0us/step\n",
            "Downloading data from https://storage.googleapis.com/tensorflow/tf-keras-datasets/t10k-labels-idx1-ubyte.gz\n",
            "16384/5148 [===============================================================================================] - 0s 0us/step\n",
            "Downloading data from https://storage.googleapis.com/tensorflow/tf-keras-datasets/t10k-images-idx3-ubyte.gz\n",
            "4423680/4422102 [==============================] - 0s 0us/step\n",
            "4431872/4422102 [==============================] - 0s 0us/step\n"
          ]
        }
      ]
    },
    {
      "cell_type": "code",
      "source": [
        "model = Sequential([\n",
        "    Conv2D(64, (3, 3), activation=\"relu\", input_shape=(28, 28, 1)),\n",
        "    MaxPooling2D((2, 2)),\n",
        "\n",
        "    Conv2D(64, (3, 3), activation=\"relu\"),\n",
        "    MaxPooling2D((2, 2)),\n",
        "\n",
        "    Conv2D(64, (3, 3), activation=\"relu\"),\n",
        "    \n",
        "    \n",
        "\n",
        "    Flatten(),\n",
        "    Dropout(0.5),\n",
        "    Dense(64, activation=\"relu\"),\n",
        "\n",
        "    Dense(10, activation=\"softmax\")\n",
        "])"
      ],
      "metadata": {
        "id": "CxiKl3Gu3WKP"
      },
      "execution_count": null,
      "outputs": []
    },
    {
      "cell_type": "code",
      "source": [
        "model.compile(\n",
        "    optimizer='adam',\n",
        "    loss='sparse_categorical_crossentropy',\n",
        "    metrics=['accuracy']\n",
        ")"
      ],
      "metadata": {
        "id": "olxrVGka3Yn9"
      },
      "execution_count": null,
      "outputs": []
    },
    {
      "cell_type": "code",
      "source": [
        "model.summary()"
      ],
      "metadata": {
        "colab": {
          "base_uri": "https://localhost:8080/"
        },
        "id": "aXon1Ca33bpg",
        "outputId": "53c5a59f-dbd8-4eef-d3eb-705fabd47049"
      },
      "execution_count": null,
      "outputs": [
        {
          "output_type": "stream",
          "name": "stdout",
          "text": [
            "Model: \"sequential\"\n",
            "_________________________________________________________________\n",
            " Layer (type)                Output Shape              Param #   \n",
            "=================================================================\n",
            " conv2d (Conv2D)             (None, 26, 26, 64)        640       \n",
            "                                                                 \n",
            " max_pooling2d (MaxPooling2D  (None, 13, 13, 64)       0         \n",
            " )                                                               \n",
            "                                                                 \n",
            " conv2d_1 (Conv2D)           (None, 11, 11, 64)        36928     \n",
            "                                                                 \n",
            " max_pooling2d_1 (MaxPooling  (None, 5, 5, 64)         0         \n",
            " 2D)                                                             \n",
            "                                                                 \n",
            " conv2d_2 (Conv2D)           (None, 3, 3, 64)          36928     \n",
            "                                                                 \n",
            " flatten (Flatten)           (None, 576)               0         \n",
            "                                                                 \n",
            " dropout (Dropout)           (None, 576)               0         \n",
            "                                                                 \n",
            " dense (Dense)               (None, 64)                36928     \n",
            "                                                                 \n",
            " dense_1 (Dense)             (None, 10)                650       \n",
            "                                                                 \n",
            "=================================================================\n",
            "Total params: 112,074\n",
            "Trainable params: 112,074\n",
            "Non-trainable params: 0\n",
            "_________________________________________________________________\n"
          ]
        }
      ]
    },
    {
      "cell_type": "code",
      "source": [
        "x_val = x_train[:10000]\n",
        "partial_x_train = x_train[10000:]\n",
        "\n",
        "y_val = y_train[:10000]\n",
        "partial_y_train = y_train[10000:]\n",
        "\n",
        "history = model.fit(\n",
        "    partial_x_train,\n",
        "    partial_y_train,\n",
        "    epochs=20,\n",
        "    batch_size=256,\n",
        "    validation_data=(x_val, y_val)\n",
        ")"
      ],
      "metadata": {
        "colab": {
          "base_uri": "https://localhost:8080/"
        },
        "id": "jubvBnDx3dtK",
        "outputId": "f6773d21-2dda-4e1e-c2c8-6101b488332c"
      },
      "execution_count": null,
      "outputs": [
        {
          "output_type": "stream",
          "name": "stdout",
          "text": [
            "Epoch 1/20\n",
            "196/196 [==============================] - 69s 347ms/step - loss: 0.8266 - accuracy: 0.6975 - val_loss: 0.5016 - val_accuracy: 0.8114\n",
            "Epoch 2/20\n",
            "196/196 [==============================] - 68s 349ms/step - loss: 0.4928 - accuracy: 0.8178 - val_loss: 0.4106 - val_accuracy: 0.8462\n",
            "Epoch 3/20\n",
            "196/196 [==============================] - 68s 345ms/step - loss: 0.4219 - accuracy: 0.8447 - val_loss: 0.3587 - val_accuracy: 0.8713\n",
            "Epoch 4/20\n",
            "196/196 [==============================] - 68s 345ms/step - loss: 0.3828 - accuracy: 0.8604 - val_loss: 0.3290 - val_accuracy: 0.8796\n",
            "Epoch 5/20\n",
            "196/196 [==============================] - 68s 345ms/step - loss: 0.3542 - accuracy: 0.8724 - val_loss: 0.3039 - val_accuracy: 0.8880\n",
            "Epoch 6/20\n",
            "196/196 [==============================] - 67s 344ms/step - loss: 0.3344 - accuracy: 0.8778 - val_loss: 0.2903 - val_accuracy: 0.8917\n",
            "Epoch 7/20\n",
            "196/196 [==============================] - 68s 344ms/step - loss: 0.3169 - accuracy: 0.8843 - val_loss: 0.2786 - val_accuracy: 0.8984\n",
            "Epoch 8/20\n",
            "196/196 [==============================] - 67s 342ms/step - loss: 0.3051 - accuracy: 0.8887 - val_loss: 0.2713 - val_accuracy: 0.9024\n",
            "Epoch 9/20\n",
            "196/196 [==============================] - 67s 344ms/step - loss: 0.2919 - accuracy: 0.8935 - val_loss: 0.2735 - val_accuracy: 0.8992\n",
            "Epoch 10/20\n",
            "196/196 [==============================] - 67s 344ms/step - loss: 0.2847 - accuracy: 0.8939 - val_loss: 0.2640 - val_accuracy: 0.9029\n",
            "Epoch 11/20\n",
            "196/196 [==============================] - 68s 345ms/step - loss: 0.2719 - accuracy: 0.8987 - val_loss: 0.2517 - val_accuracy: 0.9080\n",
            "Epoch 12/20\n",
            "196/196 [==============================] - 68s 346ms/step - loss: 0.2652 - accuracy: 0.9016 - val_loss: 0.2548 - val_accuracy: 0.9049\n",
            "Epoch 13/20\n",
            "196/196 [==============================] - 68s 345ms/step - loss: 0.2590 - accuracy: 0.9045 - val_loss: 0.2486 - val_accuracy: 0.9095\n",
            "Epoch 14/20\n",
            "196/196 [==============================] - 68s 345ms/step - loss: 0.2505 - accuracy: 0.9073 - val_loss: 0.2357 - val_accuracy: 0.9120\n",
            "Epoch 15/20\n",
            "196/196 [==============================] - 68s 346ms/step - loss: 0.2427 - accuracy: 0.9093 - val_loss: 0.2380 - val_accuracy: 0.9103\n",
            "Epoch 16/20\n",
            "196/196 [==============================] - 68s 345ms/step - loss: 0.2371 - accuracy: 0.9122 - val_loss: 0.2366 - val_accuracy: 0.9119\n",
            "Epoch 17/20\n",
            "196/196 [==============================] - 67s 344ms/step - loss: 0.2331 - accuracy: 0.9120 - val_loss: 0.2332 - val_accuracy: 0.9127\n",
            "Epoch 18/20\n",
            "196/196 [==============================] - 67s 342ms/step - loss: 0.2261 - accuracy: 0.9162 - val_loss: 0.2300 - val_accuracy: 0.9173\n",
            "Epoch 19/20\n",
            "196/196 [==============================] - 67s 343ms/step - loss: 0.2242 - accuracy: 0.9163 - val_loss: 0.2270 - val_accuracy: 0.9151\n",
            "Epoch 20/20\n",
            "196/196 [==============================] - 67s 342ms/step - loss: 0.2150 - accuracy: 0.9207 - val_loss: 0.2236 - val_accuracy: 0.9176\n"
          ]
        }
      ]
    },
    {
      "cell_type": "code",
      "source": [
        "history_dict = history.history\n",
        "\n",
        "epochs = range(1, len(history_dict['accuracy']) + 1)\n",
        "\n",
        "plt.plot(epochs, history_dict['loss'], 'bo', label='Training loss')\n",
        "plt.plot(epochs, history_dict['val_loss'], 'b', label='Validation loss')\n",
        "plt.title('Training and validation loss')\n",
        "plt.xlabel('Epochs')\n",
        "plt.ylabel('Loss')\n",
        "plt.legend()\n",
        "plt.show()\n",
        "\n",
        "plt.clf()\n",
        "val_acc_values = history_dict['val_accuracy']\n",
        "plt.plot(epochs, history_dict['accuracy'], 'bo', label='Training acc')\n",
        "plt.plot(epochs, history_dict['val_accuracy'], 'b', label='Validation acc')\n",
        "plt.title('Training and validation accuracy')\n",
        "plt.xlabel('Epochs')\n",
        "plt.ylabel('Acc')\n",
        "plt.legend()\n",
        "plt.show()"
      ],
      "metadata": {
        "colab": {
          "base_uri": "https://localhost:8080/",
          "height": 573
        },
        "id": "78JYOw9Q9OtP",
        "outputId": "f9b2dafe-22c5-44bc-e79c-1e2db205dc18"
      },
      "execution_count": null,
      "outputs": [
        {
          "output_type": "display_data",
          "data": {
            "text/plain": [
              "<Figure size 432x288 with 1 Axes>"
            ],
            "image/png": "[encoded data removed]"
          },
          "metadata": {
            "needs_background": "light"
          }
        },
        {
          "output_type": "display_data",
          "data": {
            "text/plain": [
              "<Figure size 432x288 with 1 Axes>"
            ],
            "image/png": "[encoded data removed]"
          },
          "metadata": {
            "needs_background": "light"
          }
        }
      ]
    },
    {
      "cell_type": "code",
      "source": [
        "test_loss, test_acc = model.evaluate(x_test, y_test, verbose=2)"
      ],
      "metadata": {
        "colab": {
          "base_uri": "https://localhost:8080/"
        },
        "id": "g1-ZzfU59Qnm",
        "outputId": "8d4125ae-1bd9-42bb-b665-b0a4e89a4d8c"
      },
      "execution_count": null,
      "outputs": [
        {
          "output_type": "stream",
          "name": "stdout",
          "text": [
            "313/313 - 4s - loss: 0.2444 - accuracy: 0.9112 - 4s/epoch - 14ms/step\n"
          ]
        }
      ]
    },
    {
      "cell_type": "code",
      "source": [
        "result = model.predict(x_test)"
      ],
      "metadata": {
        "id": "XBQ5bA-j9T6y"
      },
      "execution_count": null,
      "outputs": []
    },
    {
      "cell_type": "code",
      "source": [
        "np.argmax(result[0])"
      ],
      "metadata": {
        "id": "tllSbBUE9Vvm",
        "outputId": "42e92146-cc8b-41de-f819-831aa98f293c",
        "colab": {
          "base_uri": "https://localhost:8080/"
        }
      },
      "execution_count": null,
      "outputs": [
        {
          "output_type": "execute_result",
          "data": {
            "text/plain": [
              "9"
            ]
          },
          "metadata": {},
          "execution_count": 10
        }
      ]
    },
    {
      "cell_type": "code",
      "source": [
        "plt.imshow(x_test[0])"
      ],
      "metadata": {
        "id": "ExXxr2dh9XYc",
        "outputId": "37a8adc8-39bb-4bd9-c3eb-49f243e0d7a5",
        "colab": {
          "base_uri": "https://localhost:8080/",
          "height": 282
        }
      },
      "execution_count": null,
      "outputs": [
        {
          "output_type": "execute_result",
          "data": {
            "text/plain": [
              "<matplotlib.image.AxesImage at 0x7f37fe957510>"
            ]
          },
          "metadata": {},
          "execution_count": 11
        },
        {
          "output_type": "display_data",
          "data": {
            "text/plain": [
              "<Figure size 432x288 with 1 Axes>"
            ],
            "image/png": "[encoded data removed]"
          },
          "metadata": {
            "needs_background": "light"
          }
        }
      ]
    }
  ]
}