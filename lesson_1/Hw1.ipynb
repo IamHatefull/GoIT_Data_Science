{
  "nbformat": 4,
  "nbformat_minor": 0,
  "metadata": {
    "colab": {
      "name": "Hw1.ipynb",
      "provenance": [],
      "collapsed_sections": []
    },
    "kernelspec": {
      "name": "python3",
      "display_name": "Python 3"
    },
    "language_info": {
      "name": "python"
    }
  },
  "cells": [
    {
      "cell_type": "code",
      "source": [
        "import numpy as np"
      ],
      "metadata": {
        "id": "ILGha_tVepcF"
      },
      "execution_count": 1,
      "outputs": []
    },
    {
      "cell_type": "markdown",
      "source": [
        "Завдання 1\n",
        "\n",
        "Вкладчик положил 50000 условных единиц на три разных счета в три разных банка. По первому счету выплаты составят 5% годовых, по второму – 7% годовых и по третьему 6% годовых. Известно, что через год вкладчик получил по процентам сумму в 2250 у.е. с первого и второго банка и сумму в 1400 у.е. с первого и третьего банка. Сколько условных единиц он положил на каждый счет изначально?"
      ],
      "metadata": {
        "id": "wvgLV60HeD3m"
      }
    },
    {
      "cell_type": "markdown",
      "source": [
        "0.05*x1 + 0.07*x2 + 0*x3 = 2250;\n",
        "\n",
        "0*x1 + 0.07*x2 + 0.06*x3 = 1400;\n",
        "\n",
        "x1 + x2 + x3 = 5000;"
      ],
      "metadata": {
        "id": "pCBiSsSzgfvg"
      }
    },
    {
      "cell_type": "code",
      "execution_count": 12,
      "metadata": {
        "colab": {
          "base_uri": "https://localhost:8080/"
        },
        "id": "SlGcmwDud6Ci",
        "outputId": "facd6ba4-7bfc-4b9b-eccf-99ef4ecdb28a"
      },
      "outputs": [
        {
          "output_type": "stream",
          "name": "stdout",
          "text": [
            "[[28617.0212766 ]\n",
            " [11702.12765957]\n",
            " [ 9680.85106383]]\n"
          ]
        }
      ],
      "source": [
        "A = np.matrix([[0.05 , 0.07, 0], [0, 0.07, 0.06], [1, 1, 1]])\n",
        "B = np.matrix([[2250], [1400], [50000]])\n",
        "A_inv = np.linalg.inv(A)\n",
        "X = A_inv.dot(B)\n",
        "print(X)"
      ]
    },
    {
      "cell_type": "markdown",
      "source": [
        "Завдання 2.\n",
        "\n",
        "На складе хранятся мобильные телефоны iPhone 6, iPhone 11, iPhone 12 моделей. Всего 1328 экземпляра. Моделей iPhone 6 на 120 меньше, чем моделей iPhone 11, и на 100 больше, чем моделей iPhone 12. Сколько моделей каждого вида на складе?\n",
        "\n",
        "x1 + x2 + x3 = 1328\n",
        "\n",
        "x1 - x2 + 0*x3 = -120\n",
        "\n",
        "x1 + 0*x2 - x3 = 100"
      ],
      "metadata": {
        "id": "mEGXPF5fmX5A"
      }
    },
    {
      "cell_type": "code",
      "source": [
        "A = np.matrix('1,1,1; 1, -1, 0; 1, 0, -1')\n",
        "B = np.matrix('1328; -120; 100')\n",
        "A_inv = np.linalg.inv(A)\n",
        "X = A_inv.dot(B)\n",
        "print(X)"
      ],
      "metadata": {
        "colab": {
          "base_uri": "https://localhost:8080/"
        },
        "id": "HVJNLLlhuKCX",
        "outputId": "97639791-a314-4d5b-977b-e4954ad63ba9"
      },
      "execution_count": 15,
      "outputs": [
        {
          "output_type": "stream",
          "name": "stdout",
          "text": [
            "[[436.]\n",
            " [556.]\n",
            " [336.]]\n"
          ]
        }
      ]
    },
    {
      "cell_type": "markdown",
      "source": [
        "Завдання 3.\n",
        "\n",
        "Составьте каноническое уравнение эллипсоида, проходящего через три точки A,B,C\n",
        "\n",
        "A(sqrt(3);0;sqrt(3)), B(sqrt(6); 1/2; 0), C(1; 1/sqrt(3); 1)\n",
        "\n",
        "Каноническое уравнение эллипсоида в прямоугольной декартовой системе координат имеет вид:\n",
        "\n",
        "x**2/a**2 + y**2/b**2 + z**2/c**2 = 1\n",
        "\n",
        "Задача состоит в определении параметров a^2, b^2 и c^2.\n",
        "\n",
        "x1 = 1/a^2\n",
        "\n",
        "x2 = 1/b^2\n",
        "\n",
        "x3 = 1/c^2\n",
        "\n",
        "Система рівняннь набуває виду:\n",
        "\n",
        "3*x1 + 0*x2 + 3*x3 = 1\n",
        "\n",
        "6*x1 + 1/4*x2 + 0*x3 = 1\n",
        "\n",
        "1*x1 + 1/3*x2 + 1*x3 = 1"
      ],
      "metadata": {
        "id": "HVPpPtHEvh4-"
      }
    },
    {
      "cell_type": "code",
      "source": [
        "A = np.matrix([[3,0,3], [6, 0.25, 0], [1, 1/3, 1]])\n",
        "B = np.matrix('1; 1; 1')\n",
        "A_inv = np.linalg.inv(A)\n",
        "X = A_inv.dot(B)\n",
        "print(X)\n",
        "res = np.matrix([[(1 / X[0,0])], [(1 / X[1,0])], [(1 / X[2,0])]])\n",
        "print('\\n')\n",
        "print(res)"
      ],
      "metadata": {
        "colab": {
          "base_uri": "https://localhost:8080/"
        },
        "id": "p1r8-bFYxsCT",
        "outputId": "1121e47b-00a3-467f-ff98-f2a19421e78a"
      },
      "execution_count": 22,
      "outputs": [
        {
          "output_type": "stream",
          "name": "stdout",
          "text": [
            "[[0.08333333]\n",
            " [2.        ]\n",
            " [0.25      ]]\n",
            "\n",
            "\n",
            "[[12. ]\n",
            " [ 0.5]\n",
            " [ 4. ]]\n"
          ]
        }
      ]
    },
    {
      "cell_type": "markdown",
      "source": [
        "Завдання 4.\n",
        "\n",
        "Составьте уравнение параболы проходящей через заданные три точки (1,12), (3,54), (-1,2). Необходимо найти коэффициенты уравнения a,b,c\n",
        "\n",
        "y = a*x**2 + b*x +c\n",
        "\n",
        "x1*1 + x2*1 + x3 = 12\n",
        "\n",
        "x1*(3*3) + x2*3 + x3 = 54\n",
        "\n",
        "x1*1 - x2 + x3 = 2"
      ],
      "metadata": {
        "id": "0mrK7-gMxG0J"
      }
    },
    {
      "cell_type": "code",
      "source": [
        "A = np.matrix('1, 1, 1; 9, 3, 1; 1, -1, 1')\n",
        "B = np.matrix('12; 54; 2')\n",
        "A_inv = np.linalg.inv(A)\n",
        "X = A_inv.dot(B)\n",
        "print(X)"
      ],
      "metadata": {
        "colab": {
          "base_uri": "https://localhost:8080/"
        },
        "id": "PnkNq1F5xrRV",
        "outputId": "165e2bab-8932-4356-a86a-defb6ef8e997"
      },
      "execution_count": 3,
      "outputs": [
        {
          "output_type": "stream",
          "name": "stdout",
          "text": [
            "[[4.]\n",
            " [5.]\n",
            " [3.]]\n"
          ]
        }
      ]
    },
    {
      "cell_type": "markdown",
      "source": [
        "Завдання 5.\n",
        "\n",
        "Составьте функцию get_polynom, которая по набору точек вида (x1,y1),(x2,y2), ..., (x{n+1}, y{n+1}) будет находить коэффициенты многочлена ci. Таким образом функция принимает список кортежей с координатами и возвращает набор коэффициентов c0,c1, ... ,cn\n",
        "​\n"
      ],
      "metadata": {
        "id": "DDgOebXSm2yp"
      }
    },
    {
      "cell_type": "code",
      "source": [
        "import numpy as np\n",
        "\n",
        "\n",
        "def get_polynom(coords, n = 4):\n",
        "    a_list = []\n",
        "    b_list = []\n",
        "    for i in coords:\n",
        "      temp_list = []\n",
        "\n",
        "      count = n\n",
        "      for j in range(count):\n",
        "          temp_list.append(i[0] ** (count-1))\n",
        "          count -= 1\n",
        "          #print(count)\n",
        "      \n",
        "      a_list.append(temp_list)\n",
        "      b_list.append(i[1])\n",
        "      \n",
        "    a = np.matrix(a_list)\n",
        "    b = np.array(b_list)\n",
        "    print(a)\n",
        "    print(b)\n",
        "    return np.linalg.solve(a, b)\n",
        "\n",
        "coords = ((1,0), (3,2), (4,3), (7,1))\n",
        "print(get_polynom(coords))"
      ],
      "metadata": {
        "colab": {
          "base_uri": "https://localhost:8080/"
        },
        "id": "LHsFqhk1wH8-",
        "outputId": "4638528d-0d98-41fe-eb9a-1dccb872addd"
      },
      "execution_count": 17,
      "outputs": [
        {
          "output_type": "stream",
          "name": "stdout",
          "text": [
            "[[  1   1   1   1]\n",
            " [ 27   9   3   1]\n",
            " [ 64  16   4   1]\n",
            " [343  49   7   1]]\n",
            "[0 2 3 1]\n",
            "[-0.06944444  0.55555556 -0.31944444 -0.16666667]\n"
          ]
        }
      ]
    }
  ]
}