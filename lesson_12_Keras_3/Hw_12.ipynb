{
  "cells": [
    {
      "cell_type": "code",
      "execution_count": 1,
      "metadata": {
        "id": "YhKCbQW83Jaj"
      },
      "outputs": [],
      "source": [
        "from tensorflow import keras\n",
        "from keras.models import Sequential\n",
        "from keras.applications.vgg16 import VGG16\n",
        "from keras.layers import Dense, Flatten, Conv2D, MaxPooling2D, Dropout\n",
        "from keras import optimizers\n",
        "from keras import losses\n",
        "from keras import metrics\n",
        "import tensorflow as tf\n",
        "import numpy as np\n",
        "import matplotlib.pyplot as plt"
      ]
    },
    {
      "cell_type": "code",
      "execution_count": 2,
      "metadata": {
        "colab": {
          "base_uri": "https://localhost:8080/"
        },
        "id": "CpKBAaD49dom",
        "outputId": "f9c4775d-9e56-4c6a-cfa5-dce61b091274"
      },
      "outputs": [
        {
          "output_type": "stream",
          "name": "stdout",
          "text": [
            "Downloading data from https://storage.googleapis.com/tensorflow/tf-keras-datasets/train-labels-idx1-ubyte.gz\n",
            "32768/29515 [=================================] - 0s 0us/step\n",
            "40960/29515 [=========================================] - 0s 0us/step\n",
            "Downloading data from https://storage.googleapis.com/tensorflow/tf-keras-datasets/train-images-idx3-ubyte.gz\n",
            "26427392/26421880 [==============================] - 0s 0us/step\n",
            "26435584/26421880 [==============================] - 0s 0us/step\n",
            "Downloading data from https://storage.googleapis.com/tensorflow/tf-keras-datasets/t10k-labels-idx1-ubyte.gz\n",
            "16384/5148 [===============================================================================================] - 0s 0us/step\n",
            "Downloading data from https://storage.googleapis.com/tensorflow/tf-keras-datasets/t10k-images-idx3-ubyte.gz\n",
            "4423680/4422102 [==============================] - 0s 0us/step\n",
            "4431872/4422102 [==============================] - 0s 0us/step\n"
          ]
        }
      ],
      "source": [
        "fashion_mnist = keras.datasets.fashion_mnist\n",
        "\n",
        "# Loading dataset\n",
        "(x_train, y_train), (x_test, y_test) = fashion_mnist.load_data()\n",
        "\n",
        "# transform to rgb as required by VGG\n",
        "x_train=tf.image.grayscale_to_rgb(tf.expand_dims(x_train, axis=3)) \n",
        "x_test=tf.image.grayscale_to_rgb(tf.expand_dims(x_test, axis=3))\n",
        "\n",
        "#resize to minimum size of (32x32)\n",
        "x_train=tf.image.resize_with_pad(x_train,32,32)\n",
        "x_test=tf.image.resize_with_pad(x_test,32,32)\n",
        "\n",
        "x_train, x_test = x_train / 255., x_test / 255."
      ]
    },
    {
      "cell_type": "code",
      "execution_count": 3,
      "metadata": {
        "colab": {
          "base_uri": "https://localhost:8080/"
        },
        "id": "0qRhFyLC9f33",
        "outputId": "746ab8d8-38a3-4ddd-bd23-31224b6efbca"
      },
      "outputs": [
        {
          "output_type": "stream",
          "name": "stdout",
          "text": [
            "Downloading data from https://storage.googleapis.com/tensorflow/keras-applications/vgg16/vgg16_weights_tf_dim_ordering_tf_kernels_notop.h5\n",
            "58892288/58889256 [==============================] - 1s 0us/step\n",
            "58900480/58889256 [==============================] - 1s 0us/step\n"
          ]
        }
      ],
      "source": [
        "conv_base = VGG16(weights=\"imagenet\", include_top=False, input_shape=(32, 32, 3))\n",
        "conv_base.trainable = False"
      ]
    },
    {
      "cell_type": "code",
      "execution_count": 4,
      "metadata": {
        "id": "mQ4LG7Tj9iYC"
      },
      "outputs": [],
      "source": [
        "model = Sequential([\n",
        "   conv_base,\n",
        "   Flatten(),\n",
        "   Dense(256, activation=\"sigmoid\"),\n",
        "   Dense(10, activation=\"softmax\"),\n",
        "])\n",
        "\n",
        "model.compile(\n",
        "    optimizer='adam',\n",
        "    loss='sparse_categorical_crossentropy',\n",
        "    metrics=['accuracy']\n",
        ")"
      ]
    },
    {
      "cell_type": "code",
      "execution_count": 5,
      "metadata": {
        "colab": {
          "base_uri": "https://localhost:8080/"
        },
        "id": "9Gau0xxz9lyp",
        "outputId": "4286117a-b93d-4063-c6f0-215e574223b8"
      },
      "outputs": [
        {
          "output_type": "stream",
          "name": "stdout",
          "text": [
            "Model: \"sequential\"\n",
            "_________________________________________________________________\n",
            " Layer (type)                Output Shape              Param #   \n",
            "=================================================================\n",
            " vgg16 (Functional)          (None, 1, 1, 512)         14714688  \n",
            "                                                                 \n",
            " flatten (Flatten)           (None, 512)               0         \n",
            "                                                                 \n",
            " dense (Dense)               (None, 256)               131328    \n",
            "                                                                 \n",
            " dense_1 (Dense)             (None, 10)                2570      \n",
            "                                                                 \n",
            "=================================================================\n",
            "Total params: 14,848,586\n",
            "Trainable params: 133,898\n",
            "Non-trainable params: 14,714,688\n",
            "_________________________________________________________________\n"
          ]
        }
      ],
      "source": [
        "model.summary()"
      ]
    },
    {
      "cell_type": "code",
      "execution_count": 6,
      "metadata": {
        "id": "zt_LqgCE9nvD",
        "outputId": "e61e1c99-9e21-4fda-a144-8c3d13e7e2a7",
        "colab": {
          "base_uri": "https://localhost:8080/"
        }
      },
      "outputs": [
        {
          "output_type": "stream",
          "name": "stdout",
          "text": [
            "Epoch 1/50\n",
            "30/30 [==============================] - 631s 21s/step - loss: 1.7637 - accuracy: 0.5349\n",
            "Epoch 2/50\n",
            "30/30 [==============================] - 619s 21s/step - loss: 1.0325 - accuracy: 0.7286\n",
            "Epoch 3/50\n",
            "30/30 [==============================] - 617s 21s/step - loss: 0.7911 - accuracy: 0.7572\n",
            "Epoch 4/50\n",
            "30/30 [==============================] - 618s 21s/step - loss: 0.6890 - accuracy: 0.7763\n",
            "Epoch 5/50\n",
            "30/30 [==============================] - 617s 21s/step - loss: 0.6294 - accuracy: 0.7912\n",
            "Epoch 6/50\n",
            "30/30 [==============================] - 620s 21s/step - loss: 0.5888 - accuracy: 0.8007\n",
            "Epoch 7/50\n",
            "30/30 [==============================] - 619s 21s/step - loss: 0.5585 - accuracy: 0.8086\n",
            "Epoch 8/50\n",
            "30/30 [==============================] - 618s 21s/step - loss: 0.5351 - accuracy: 0.8157\n",
            "Epoch 9/50\n",
            "30/30 [==============================] - 619s 21s/step - loss: 0.5158 - accuracy: 0.8201\n",
            "Epoch 10/50\n",
            "30/30 [==============================] - 619s 21s/step - loss: 0.5000 - accuracy: 0.8249\n",
            "Epoch 11/50\n",
            "30/30 [==============================] - 618s 21s/step - loss: 0.4864 - accuracy: 0.8289\n",
            "Epoch 12/50\n",
            "30/30 [==============================] - 619s 21s/step - loss: 0.4748 - accuracy: 0.8326\n",
            "Epoch 13/50\n",
            "30/30 [==============================] - 618s 21s/step - loss: 0.4643 - accuracy: 0.8362\n",
            "Epoch 14/50\n",
            "30/30 [==============================] - 616s 21s/step - loss: 0.4559 - accuracy: 0.8385\n",
            "Epoch 15/50\n",
            "30/30 [==============================] - 617s 21s/step - loss: 0.4474 - accuracy: 0.8410\n",
            "Epoch 16/50\n",
            "30/30 [==============================] - 618s 21s/step - loss: 0.4402 - accuracy: 0.8443\n",
            "Epoch 17/50\n",
            "30/30 [==============================] - 618s 21s/step - loss: 0.4342 - accuracy: 0.8448\n",
            "Epoch 18/50\n",
            "30/30 [==============================] - 618s 21s/step - loss: 0.4277 - accuracy: 0.8478\n",
            "Epoch 19/50\n",
            "30/30 [==============================] - 617s 21s/step - loss: 0.4225 - accuracy: 0.8490\n",
            "Epoch 20/50\n",
            "30/30 [==============================] - 618s 21s/step - loss: 0.4180 - accuracy: 0.8503\n",
            "Epoch 21/50\n",
            "30/30 [==============================] - 617s 21s/step - loss: 0.4135 - accuracy: 0.8513\n",
            "Epoch 22/50\n",
            "30/30 [==============================] - 619s 21s/step - loss: 0.4088 - accuracy: 0.8528\n",
            "Epoch 23/50\n",
            "30/30 [==============================] - 619s 21s/step - loss: 0.4061 - accuracy: 0.8535\n",
            "Epoch 24/50\n",
            "30/30 [==============================] - 619s 21s/step - loss: 0.4023 - accuracy: 0.8547\n",
            "Epoch 25/50\n",
            "30/30 [==============================] - 623s 21s/step - loss: 0.3976 - accuracy: 0.8559\n",
            "Epoch 26/50\n",
            "30/30 [==============================] - 620s 21s/step - loss: 0.3954 - accuracy: 0.8574\n",
            "Epoch 27/50\n",
            "30/30 [==============================] - 619s 21s/step - loss: 0.3921 - accuracy: 0.8584\n",
            "Epoch 28/50\n",
            "30/30 [==============================] - 618s 21s/step - loss: 0.3903 - accuracy: 0.8587\n",
            "Epoch 29/50\n",
            "30/30 [==============================] - 620s 21s/step - loss: 0.3870 - accuracy: 0.8600\n",
            "Epoch 30/50\n",
            "30/30 [==============================] - 621s 21s/step - loss: 0.3848 - accuracy: 0.8612\n",
            "Epoch 31/50\n",
            "30/30 [==============================] - 621s 21s/step - loss: 0.3821 - accuracy: 0.8620\n",
            "Epoch 32/50\n",
            "30/30 [==============================] - 617s 21s/step - loss: 0.3804 - accuracy: 0.8620\n",
            "Epoch 33/50\n",
            "30/30 [==============================] - 617s 21s/step - loss: 0.3771 - accuracy: 0.8631\n",
            "Epoch 34/50\n",
            "30/30 [==============================] - 615s 21s/step - loss: 0.3747 - accuracy: 0.8646\n",
            "Epoch 35/50\n",
            "30/30 [==============================] - 620s 21s/step - loss: 0.3728 - accuracy: 0.8651\n",
            "Epoch 36/50\n",
            "30/30 [==============================] - 618s 21s/step - loss: 0.3702 - accuracy: 0.8660\n",
            "Epoch 37/50\n",
            "30/30 [==============================] - 630s 21s/step - loss: 0.3695 - accuracy: 0.8657\n",
            "Epoch 38/50\n",
            "30/30 [==============================] - 617s 21s/step - loss: 0.3677 - accuracy: 0.8672\n",
            "Epoch 39/50\n",
            "30/30 [==============================] - 618s 21s/step - loss: 0.3659 - accuracy: 0.8675\n",
            "Epoch 40/50\n",
            "30/30 [==============================] - 619s 21s/step - loss: 0.3644 - accuracy: 0.8671\n",
            "Epoch 41/50\n",
            "30/30 [==============================] - 621s 21s/step - loss: 0.3628 - accuracy: 0.8684\n",
            "Epoch 42/50\n",
            "30/30 [==============================] - 615s 20s/step - loss: 0.3616 - accuracy: 0.8688\n",
            "Epoch 43/50\n",
            "30/30 [==============================] - 612s 20s/step - loss: 0.3599 - accuracy: 0.8686\n",
            "Epoch 44/50\n",
            "30/30 [==============================] - 616s 20s/step - loss: 0.3583 - accuracy: 0.8700\n",
            "Epoch 45/50\n",
            "30/30 [==============================] - 614s 20s/step - loss: 0.3563 - accuracy: 0.8712\n",
            "Epoch 46/50\n",
            "30/30 [==============================] - 615s 21s/step - loss: 0.3550 - accuracy: 0.8711\n",
            "Epoch 47/50\n",
            "30/30 [==============================] - 617s 21s/step - loss: 0.3535 - accuracy: 0.8712\n",
            "Epoch 48/50\n",
            "30/30 [==============================] - 616s 21s/step - loss: 0.3523 - accuracy: 0.8721\n",
            "Epoch 49/50\n",
            "30/30 [==============================] - 621s 21s/step - loss: 0.3517 - accuracy: 0.8722\n",
            "Epoch 50/50\n",
            "30/30 [==============================] - 617s 21s/step - loss: 0.3501 - accuracy: 0.8727\n"
          ]
        }
      ],
      "source": [
        "x_val = x_train[:10000]\n",
        "partial_x_train = x_train[10000:]\n",
        "\n",
        "y_val = y_train[:10000]\n",
        "partial_y_train = y_train[10000:]\n",
        "\n",
        "history = model.fit(\n",
        "    x_train,\n",
        "    y_train,\n",
        "    epochs=50,\n",
        "    batch_size=2048,\n",
        ")"
      ]
    },
    {
      "cell_type": "code",
      "execution_count": 9,
      "metadata": {
        "colab": {
          "base_uri": "https://localhost:8080/",
          "height": 573
        },
        "id": "juNUVYmYfeWx",
        "outputId": "132b040e-e436-4e9e-b783-116a6fa0857c"
      },
      "outputs": [
        {
          "output_type": "display_data",
          "data": {
            "text/plain": [
              "<Figure size 432x288 with 1 Axes>"
            ],
            "image/png": "[encoded data removed]"
          },
          "metadata": {
            "needs_background": "light"
          }
        },
        {
          "output_type": "display_data",
          "data": {
            "text/plain": [
              "<Figure size 432x288 with 1 Axes>"
            ],
            "image/png": "[encoded data removed]"
          },
          "metadata": {
            "needs_background": "light"
          }
        }
      ],
      "source": [
        "history_dict = history.history\n",
        "\n",
        "epochs = range(1, len(history_dict['accuracy']) + 1)\n",
        "\n",
        "plt.plot(epochs, history_dict['loss'], 'bo', label='Training loss')\n",
        "plt.title('Training and validation loss')\n",
        "plt.xlabel('Epochs')\n",
        "plt.ylabel('Loss')\n",
        "plt.legend()\n",
        "plt.show()\n",
        "\n",
        "plt.clf()\n",
        "plt.plot(epochs, history_dict['accuracy'], 'bo', label='Training acc')\n",
        "plt.title('Training and validation accuracy')\n",
        "plt.xlabel('Epochs')\n",
        "plt.ylabel('Acc')\n",
        "plt.legend()\n",
        "plt.show()"
      ]
    },
    {
      "cell_type": "code",
      "execution_count": 8,
      "metadata": {
        "colab": {
          "base_uri": "https://localhost:8080/"
        },
        "id": "9SrPdMoGfkvE",
        "outputId": "910391fa-5e66-446f-bdb2-b6d9cb0053de"
      },
      "outputs": [
        {
          "output_type": "stream",
          "name": "stdout",
          "text": [
            "313/313 - 110s - loss: 0.3948 - accuracy: 0.8579 - 110s/epoch - 352ms/step\n"
          ]
        }
      ],
      "source": [
        "test_loss, test_acc = model.evaluate(x_test, y_test, verbose=2)"
      ]
    }
  ],
  "metadata": {
    "colab": {
      "collapsed_sections": [],
      "provenance": []
    },
    "kernelspec": {
      "display_name": "Python 3",
      "name": "python3"
    },
    "language_info": {
      "name": "python"
    }
  },
  "nbformat": 4,
  "nbformat_minor": 0
}