{
  "nbformat": 4,
  "nbformat_minor": 0,
  "metadata": {
    "colab": {
      "name": "Hw2.2.ipynb",
      "provenance": [],
      "collapsed_sections": []
    },
    "kernelspec": {
      "name": "python3",
      "display_name": "Python 3"
    },
    "language_info": {
      "name": "python"
    }
  },
  "cells": [
    {
      "cell_type": "code",
      "execution_count": 2,
      "metadata": {
        "id": "QY57Z_cfA6Bl"
      },
      "outputs": [],
      "source": [
        "import numpy as np\n",
        "import pandas as pd\n",
        "import matplotlib.pyplot as plt"
      ]
    },
    {
      "cell_type": "code",
      "source": [
        "path = 'https://drive.google.com/uc?export=download&id=1zNVdFzREtUUlBJ54xvYQ3JlD4HWh8eNq'\n",
        "data = pd.read_csv(path)\n",
        "print(data.head())"
      ],
      "metadata": {
        "colab": {
          "base_uri": "https://localhost:8080/"
        },
        "id": "pZceuz57BUDN",
        "outputId": "186a8ec4-7351-4b4f-f095-3cdd88b3b50e"
      },
      "execution_count": 3,
      "outputs": [
        {
          "output_type": "stream",
          "name": "stdout",
          "text": [
            "   N                 Должность Язык.программирования Специализация  \\\n",
            "0  1        Junior QA engineer                   NaN     Manual QA   \n",
            "1  2        Junior QA engineer                   NaN     Manual QA   \n",
            "2  3         Software Engineer               C#/.NET           NaN   \n",
            "3  4         Software Engineer            JavaScript           NaN   \n",
            "4  5  Senior Software Engineer            JavaScript           NaN   \n",
            "\n",
            "  Общий.опыт.работы Опыт.работы.на.текущем.месте  Зарплата.в.месяц  \\\n",
            "0               0.5                          0.5               400   \n",
            "1  меньше 3 месяцев             меньше 3 месяцев               430   \n",
            "2                 4                            1              2500   \n",
            "3                 5                            4              2000   \n",
            "4    10 и более лет                          0.5              4500   \n",
            "\n",
            "   Изменение.зарплаты.за.12.месяцев    Город     Размер.компании  ...  \\\n",
            "0                                 0  Харьков       до 10 человек  ...   \n",
            "1                               130  Харьков  свыше 1000 человек  ...   \n",
            "2                               800     Киев     до 1000 человек  ...   \n",
            "3                               400   Одесса      до 200 человек  ...   \n",
            "4                               500   Другой       до 10 человек  ...   \n",
            "\n",
            "  Еще.студент Уровень.английского                    Предметная.область  \\\n",
            "0        True       ниже среднего                         iOS,eCommerce   \n",
            "1        True       выше среднего                        Веб-разработка   \n",
            "2       False             средний  Веб-разработка,Корпоративные системы   \n",
            "3       False       ниже среднего   Desktop Applications,Веб-разработка   \n",
            "4       False             средний   Desktop Applications,Веб-разработка   \n",
            "\n",
            "       Дата.заполнения                                         User.Agent  \\\n",
            "0  12/06/2017 12:38:08  Mozilla/5.0 (Windows NT 10.0; Win64; x64) Appl...   \n",
            "1  12/06/2017 12:42:51  Mozilla/5.0 (iPad; CPU OS 10_2_1 like Mac OS X...   \n",
            "2  12/06/2017 13:02:47  Mozilla/5.0 (Windows NT 10.0; Win64; x64) Appl...   \n",
            "3  12/06/2017 13:03:01  Mozilla/5.0 (Windows NT 6.1; Win64; x64) Apple...   \n",
            "4  12/06/2017 13:03:47  Mozilla/5.0 (iPhone; CPU iPhone OS 10_3_2 like...   \n",
            "\n",
            "    exp current_job_exp salary Валюта  cls  \n",
            "0   0.5             0.5    400    NaN   QA  \n",
            "1   0.0             0.0    430    NaN   QA  \n",
            "2   4.0             1.0   2500    NaN  DEV  \n",
            "3   5.0             4.0   2000    NaN  DEV  \n",
            "4  10.0             0.5   4500    NaN  DEV  \n",
            "\n",
            "[5 rows x 25 columns]\n"
          ]
        }
      ]
    },
    {
      "cell_type": "code",
      "source": [
        "print(data.shape)"
      ],
      "metadata": {
        "colab": {
          "base_uri": "https://localhost:8080/"
        },
        "id": "r7UBxS0-E9K0",
        "outputId": "865c190d-48ba-4f39-99b0-cf9444217db0"
      },
      "execution_count": 4,
      "outputs": [
        {
          "output_type": "stream",
          "name": "stdout",
          "text": [
            "(8704, 25)\n"
          ]
        }
      ]
    },
    {
      "cell_type": "code",
      "source": [
        "print(data.dtypes)"
      ],
      "metadata": {
        "colab": {
          "base_uri": "https://localhost:8080/"
        },
        "id": "FV9FupAOFDkL",
        "outputId": "33871c5e-9ad1-42e2-e818-798d53a7b078"
      },
      "execution_count": 5,
      "outputs": [
        {
          "output_type": "stream",
          "name": "stdout",
          "text": [
            "N                                     int64\n",
            "Должность                            object\n",
            "Язык.программирования                object\n",
            "Специализация                        object\n",
            "Общий.опыт.работы                    object\n",
            "Опыт.работы.на.текущем.месте         object\n",
            "Зарплата.в.месяц                      int64\n",
            "Изменение.зарплаты.за.12.месяцев      int64\n",
            "Город                                object\n",
            "Размер.компании                      object\n",
            "Тип.компании                         object\n",
            "Пол                                  object\n",
            "Возраст                               int64\n",
            "Образование                          object\n",
            "Университет                          object\n",
            "Еще.студент                            bool\n",
            "Уровень.английского                  object\n",
            "Предметная.область                   object\n",
            "Дата.заполнения                      object\n",
            "User.Agent                           object\n",
            "exp                                 float64\n",
            "current_job_exp                     float64\n",
            "salary                                int64\n",
            "Валюта                               object\n",
            "cls                                  object\n",
            "dtype: object\n"
          ]
        }
      ]
    },
    {
      "cell_type": "code",
      "source": [
        "miss_part = pd.isnull(data)\n",
        "print(miss_part.sum())"
      ],
      "metadata": {
        "colab": {
          "base_uri": "https://localhost:8080/"
        },
        "id": "Z-AS7fTxFIT4",
        "outputId": "b055ae95-0b7e-49e5-d9d2-b0c105fb5503"
      },
      "execution_count": 6,
      "outputs": [
        {
          "output_type": "stream",
          "name": "stdout",
          "text": [
            "N                                      0\n",
            "Должность                              0\n",
            "Язык.программирования               3850\n",
            "Специализация                       7219\n",
            "Общий.опыт.работы                      0\n",
            "Опыт.работы.на.текущем.месте           0\n",
            "Зарплата.в.месяц                       0\n",
            "Изменение.зарплаты.за.12.месяцев       0\n",
            "Город                                  0\n",
            "Размер.компании                        0\n",
            "Тип.компании                           0\n",
            "Пол                                    0\n",
            "Возраст                                0\n",
            "Образование                            0\n",
            "Университет                          358\n",
            "Еще.студент                            0\n",
            "Уровень.английского                    0\n",
            "Предметная.область                   223\n",
            "Дата.заполнения                        0\n",
            "User.Agent                             0\n",
            "exp                                    0\n",
            "current_job_exp                        0\n",
            "salary                                 0\n",
            "Валюта                              8694\n",
            "cls                                 1574\n",
            "dtype: int64\n"
          ]
        }
      ]
    },
    {
      "cell_type": "code",
      "source": [
        "new_data = data.drop(['Специализация', 'Университет', 'Предметная.область', 'Валюта', 'cls'], axis = 1)"
      ],
      "metadata": {
        "id": "_XD1orQJXxYq"
      },
      "execution_count": 7,
      "outputs": []
    },
    {
      "cell_type": "code",
      "source": [
        "print(new_data.head())\n",
        "print(new_data.shape)"
      ],
      "metadata": {
        "colab": {
          "base_uri": "https://localhost:8080/"
        },
        "id": "KXzchzA3aInx",
        "outputId": "753cfdb3-f02f-40ea-d593-503038b47ddb"
      },
      "execution_count": 8,
      "outputs": [
        {
          "output_type": "stream",
          "name": "stdout",
          "text": [
            "   N                 Должность Язык.программирования Общий.опыт.работы  \\\n",
            "0  1        Junior QA engineer                   NaN               0.5   \n",
            "1  2        Junior QA engineer                   NaN  меньше 3 месяцев   \n",
            "2  3         Software Engineer               C#/.NET                 4   \n",
            "3  4         Software Engineer            JavaScript                 5   \n",
            "4  5  Senior Software Engineer            JavaScript    10 и более лет   \n",
            "\n",
            "  Опыт.работы.на.текущем.месте  Зарплата.в.месяц  \\\n",
            "0                          0.5               400   \n",
            "1             меньше 3 месяцев               430   \n",
            "2                            1              2500   \n",
            "3                            4              2000   \n",
            "4                          0.5              4500   \n",
            "\n",
            "   Изменение.зарплаты.за.12.месяцев    Город     Размер.компании  \\\n",
            "0                                 0  Харьков       до 10 человек   \n",
            "1                               130  Харьков  свыше 1000 человек   \n",
            "2                               800     Киев     до 1000 человек   \n",
            "3                               400   Одесса      до 200 человек   \n",
            "4                               500   Другой       до 10 человек   \n",
            "\n",
            "     Тип.компании      Пол  Возраст           Образование  Еще.студент  \\\n",
            "0  Аутсорсинговая  женский       20  Незаконченное высшее         True   \n",
            "1  Аутсорсинговая  женский       21  Незаконченное высшее         True   \n",
            "2  Аутсорсинговая  мужской       26                Высшее        False   \n",
            "3     Продуктовая  мужской       30               Среднее        False   \n",
            "4     Продуктовая  мужской       30    Техникум / Колледж        False   \n",
            "\n",
            "  Уровень.английского      Дата.заполнения  \\\n",
            "0       ниже среднего  12/06/2017 12:38:08   \n",
            "1       выше среднего  12/06/2017 12:42:51   \n",
            "2             средний  12/06/2017 13:02:47   \n",
            "3       ниже среднего  12/06/2017 13:03:01   \n",
            "4             средний  12/06/2017 13:03:47   \n",
            "\n",
            "                                          User.Agent   exp  current_job_exp  \\\n",
            "0  Mozilla/5.0 (Windows NT 10.0; Win64; x64) Appl...   0.5              0.5   \n",
            "1  Mozilla/5.0 (iPad; CPU OS 10_2_1 like Mac OS X...   0.0              0.0   \n",
            "2  Mozilla/5.0 (Windows NT 10.0; Win64; x64) Appl...   4.0              1.0   \n",
            "3  Mozilla/5.0 (Windows NT 6.1; Win64; x64) Apple...   5.0              4.0   \n",
            "4  Mozilla/5.0 (iPhone; CPU iPhone OS 10_3_2 like...  10.0              0.5   \n",
            "\n",
            "   salary  \n",
            "0     400  \n",
            "1     430  \n",
            "2    2500  \n",
            "3    2000  \n",
            "4    4500  \n",
            "(8704, 20)\n"
          ]
        }
      ]
    },
    {
      "cell_type": "code",
      "source": [
        "miss_part = pd.isnull(new_data)\n",
        "print(miss_part.sum())"
      ],
      "metadata": {
        "colab": {
          "base_uri": "https://localhost:8080/"
        },
        "id": "r9tH4wC6aZYl",
        "outputId": "0b74447e-b388-4443-f69d-20bb7748a671"
      },
      "execution_count": 9,
      "outputs": [
        {
          "output_type": "stream",
          "name": "stdout",
          "text": [
            "N                                      0\n",
            "Должность                              0\n",
            "Язык.программирования               3850\n",
            "Общий.опыт.работы                      0\n",
            "Опыт.работы.на.текущем.месте           0\n",
            "Зарплата.в.месяц                       0\n",
            "Изменение.зарплаты.за.12.месяцев       0\n",
            "Город                                  0\n",
            "Размер.компании                        0\n",
            "Тип.компании                           0\n",
            "Пол                                    0\n",
            "Возраст                                0\n",
            "Образование                            0\n",
            "Еще.студент                            0\n",
            "Уровень.английского                    0\n",
            "Дата.заполнения                        0\n",
            "User.Agent                             0\n",
            "exp                                    0\n",
            "current_job_exp                        0\n",
            "salary                                 0\n",
            "dtype: int64\n"
          ]
        }
      ]
    },
    {
      "cell_type": "code",
      "source": [
        "after_drop_data = data.dropna()\n",
        "print(after_drop_data.head())\n",
        "print(after_drop_data.shape)"
      ],
      "metadata": {
        "colab": {
          "base_uri": "https://localhost:8080/"
        },
        "id": "3M5OCWddamMZ",
        "outputId": "d7489a7f-1767-42f0-b94e-ca9c53337e84"
      },
      "execution_count": 10,
      "outputs": [
        {
          "output_type": "stream",
          "name": "stdout",
          "text": [
            "Empty DataFrame\n",
            "Columns: [N, Должность, Язык.программирования, Специализация, Общий.опыт.работы, Опыт.работы.на.текущем.месте, Зарплата.в.месяц, Изменение.зарплаты.за.12.месяцев, Город, Размер.компании, Тип.компании, Пол, Возраст, Образование, Университет, Еще.студент, Уровень.английского, Предметная.область, Дата.заполнения, User.Agent, exp, current_job_exp, salary, Валюта, cls]\n",
            "Index: []\n",
            "\n",
            "[0 rows x 25 columns]\n",
            "(0, 25)\n"
          ]
        }
      ]
    },
    {
      "cell_type": "code",
      "source": [
        "python_data = data[data['Язык.программирования'] == 'Python']\n",
        "print(python_data.head())\n",
        "print(python_data.shape)"
      ],
      "metadata": {
        "colab": {
          "base_uri": "https://localhost:8080/"
        },
        "id": "HyIaSkdZbJJZ",
        "outputId": "2915478f-cd67-4407-954e-56e3f6c2c8b6"
      },
      "execution_count": 11,
      "outputs": [
        {
          "output_type": "stream",
          "name": "stdout",
          "text": [
            "       N                 Должность Язык.программирования Специализация  \\\n",
            "12    13         Software Engineer                Python           NaN   \n",
            "68    69         Software Engineer                Python           NaN   \n",
            "87    88  Junior Software Engineer                Python           NaN   \n",
            "114  115  Junior Software Engineer                Python           NaN   \n",
            "143  144  Junior Software Engineer                Python           NaN   \n",
            "\n",
            "    Общий.опыт.работы Опыт.работы.на.текущем.месте  Зарплата.в.месяц  \\\n",
            "12                  1             меньше 3 месяцев               800   \n",
            "68                1.5                          0.5               900   \n",
            "87                0.5                          0.5               600   \n",
            "114               1.5                          0.5               685   \n",
            "143                 1                            1               750   \n",
            "\n",
            "     Изменение.зарплаты.за.12.месяцев Город  Размер.компании  ... Еще.студент  \\\n",
            "12                                200  Киев    до 50 человек  ...       False   \n",
            "68                                900  Киев    до 10 человек  ...        True   \n",
            "87                                  0  Киев    до 10 человек  ...        True   \n",
            "114                               250  Киев  до 1000 человек  ...       False   \n",
            "143                               250  Киев    до 10 человек  ...        True   \n",
            "\n",
            "    Уровень.английского        Предметная.область      Дата.заполнения  \\\n",
            "12        ниже среднего     Веб-разработка,Другое  12/06/2017 13:05:54   \n",
            "68        выше среднего            Веб-разработка  12/06/2017 13:11:17   \n",
            "87        выше среднего  Веб-разработка,eCommerce  12/06/2017 13:12:25   \n",
            "114             средний                    Другое  12/06/2017 13:14:52   \n",
            "143       выше среднего            Веб-разработка  12/06/2017 13:19:10   \n",
            "\n",
            "                                            User.Agent  exp current_job_exp  \\\n",
            "12   Mozilla/5.0 (Windows NT 6.1; Win64; x64) Apple...  1.0             0.0   \n",
            "68   Mozilla/5.0 (Windows NT 10.0; Win64; x64) Appl...  1.5             0.5   \n",
            "87   Mozilla/5.0 (X11; Linux x86_64) AppleWebKit/53...  0.5             0.5   \n",
            "114  Mozilla/5.0 (X11; Linux x86_64) AppleWebKit/53...  1.5             0.5   \n",
            "143  Mozilla/5.0 (X11; Linux x86_64) AppleWebKit/53...  1.0             1.0   \n",
            "\n",
            "    salary Валюта  cls  \n",
            "12     800    NaN  DEV  \n",
            "68     900    NaN  DEV  \n",
            "87     600    NaN  DEV  \n",
            "114    685    NaN  DEV  \n",
            "143    750    NaN  DEV  \n",
            "\n",
            "[5 rows x 25 columns]\n",
            "(207, 25)\n"
          ]
        }
      ]
    },
    {
      "cell_type": "code",
      "source": [
        "grouped_data = python_data.groupby(['Должность']).agg({'Зарплата.в.месяц': ['min', 'max']})\n",
        "grouped_data"
      ],
      "metadata": {
        "colab": {
          "base_uri": "https://localhost:8080/",
          "height": 269
        },
        "id": "KrI4gctyd2Wz",
        "outputId": "c09cb67c-7167-42b7-c385-88519bd53bfc"
      },
      "execution_count": 36,
      "outputs": [
        {
          "output_type": "execute_result",
          "data": {
            "text/plain": [
              "                         Зарплата.в.месяц      \n",
              "                                      min   max\n",
              "Должность                                      \n",
              "Junior Software Engineer              100  1250\n",
              "Senior Software Engineer             1300  9200\n",
              "Software Engineer                     500  5400\n",
              "System Architect                     3000  5000\n",
              "Technical Lead                       1425  6200"
            ],
            "text/html": [
              "\n",
              "  <div id=\"df-cb5155ca-eb93-4537-ba04-70e43c3d6d67\">\n",
              "    <div class=\"colab-df-container\">\n",
              "      <div>\n",
              "<style scoped>\n",
              "    .dataframe tbody tr th:only-of-type {\n",
              "        vertical-align: middle;\n",
              "    }\n",
              "\n",
              "    .dataframe tbody tr th {\n",
              "        vertical-align: top;\n",
              "    }\n",
              "\n",
              "    .dataframe thead tr th {\n",
              "        text-align: left;\n",
              "    }\n",
              "\n",
              "    .dataframe thead tr:last-of-type th {\n",
              "        text-align: right;\n",
              "    }\n",
              "</style>\n",
              "<table border=\"1\" class=\"dataframe\">\n",
              "  <thead>\n",
              "    <tr>\n",
              "      <th></th>\n",
              "      <th colspan=\"2\" halign=\"left\">Зарплата.в.месяц</th>\n",
              "    </tr>\n",
              "    <tr>\n",
              "      <th></th>\n",
              "      <th>min</th>\n",
              "      <th>max</th>\n",
              "    </tr>\n",
              "    <tr>\n",
              "      <th>Должность</th>\n",
              "      <th></th>\n",
              "      <th></th>\n",
              "    </tr>\n",
              "  </thead>\n",
              "  <tbody>\n",
              "    <tr>\n",
              "      <th>Junior Software Engineer</th>\n",
              "      <td>100</td>\n",
              "      <td>1250</td>\n",
              "    </tr>\n",
              "    <tr>\n",
              "      <th>Senior Software Engineer</th>\n",
              "      <td>1300</td>\n",
              "      <td>9200</td>\n",
              "    </tr>\n",
              "    <tr>\n",
              "      <th>Software Engineer</th>\n",
              "      <td>500</td>\n",
              "      <td>5400</td>\n",
              "    </tr>\n",
              "    <tr>\n",
              "      <th>System Architect</th>\n",
              "      <td>3000</td>\n",
              "      <td>5000</td>\n",
              "    </tr>\n",
              "    <tr>\n",
              "      <th>Technical Lead</th>\n",
              "      <td>1425</td>\n",
              "      <td>6200</td>\n",
              "    </tr>\n",
              "  </tbody>\n",
              "</table>\n",
              "</div>\n",
              "      <button class=\"colab-df-convert\" onclick=\"convertToInteractive('df-cb5155ca-eb93-4537-ba04-70e43c3d6d67')\"\n",
              "              title=\"Convert this dataframe to an interactive table.\"\n",
              "              style=\"display:none;\">\n",
              "        \n",
              "  <svg xmlns=\"http://www.w3.org/2000/svg\" height=\"24px\"viewBox=\"0 0 24 24\"\n",
              "       width=\"24px\">\n",
              "    <path d=\"M0 0h24v24H0V0z\" fill=\"none\"/>\n",
              "    <path d=\"M18.56 5.44l.94 2.06.94-2.06 2.06-.94-2.06-.94-.94-2.06-.94 2.06-2.06.94zm-11 1L8.5 8.5l.94-2.06 2.06-.94-2.06-.94L8.5 2.5l-.94 2.06-2.06.94zm10 10l.94 2.06.94-2.06 2.06-.94-2.06-.94-.94-2.06-.94 2.06-2.06.94z\"/><path d=\"M17.41 7.96l-1.37-1.37c-.4-.4-.92-.59-1.43-.59-.52 0-1.04.2-1.43.59L10.3 9.45l-7.72 7.72c-.78.78-.78 2.05 0 2.83L4 21.41c.39.39.9.59 1.41.59.51 0 1.02-.2 1.41-.59l7.78-7.78 2.81-2.81c.8-.78.8-2.07 0-2.86zM5.41 20L4 18.59l7.72-7.72 1.47 1.35L5.41 20z\"/>\n",
              "  </svg>\n",
              "      </button>\n",
              "      \n",
              "  <style>\n",
              "    .colab-df-container {\n",
              "      display:flex;\n",
              "      flex-wrap:wrap;\n",
              "      gap: 12px;\n",
              "    }\n",
              "\n",
              "    .colab-df-convert {\n",
              "      background-color: #E8F0FE;\n",
              "      border: none;\n",
              "      border-radius: 50%;\n",
              "      cursor: pointer;\n",
              "      display: none;\n",
              "      fill: #1967D2;\n",
              "      height: 32px;\n",
              "      padding: 0 0 0 0;\n",
              "      width: 32px;\n",
              "    }\n",
              "\n",
              "    .colab-df-convert:hover {\n",
              "      background-color: #E2EBFA;\n",
              "      box-shadow: 0px 1px 2px rgba(60, 64, 67, 0.3), 0px 1px 3px 1px rgba(60, 64, 67, 0.15);\n",
              "      fill: #174EA6;\n",
              "    }\n",
              "\n",
              "    [theme=dark] .colab-df-convert {\n",
              "      background-color: #3B4455;\n",
              "      fill: #D2E3FC;\n",
              "    }\n",
              "\n",
              "    [theme=dark] .colab-df-convert:hover {\n",
              "      background-color: #434B5C;\n",
              "      box-shadow: 0px 1px 3px 1px rgba(0, 0, 0, 0.15);\n",
              "      filter: drop-shadow(0px 1px 2px rgba(0, 0, 0, 0.3));\n",
              "      fill: #FFFFFF;\n",
              "    }\n",
              "  </style>\n",
              "\n",
              "      <script>\n",
              "        const buttonEl =\n",
              "          document.querySelector('#df-cb5155ca-eb93-4537-ba04-70e43c3d6d67 button.colab-df-convert');\n",
              "        buttonEl.style.display =\n",
              "          google.colab.kernel.accessAllowed ? 'block' : 'none';\n",
              "\n",
              "        async function convertToInteractive(key) {\n",
              "          const element = document.querySelector('#df-cb5155ca-eb93-4537-ba04-70e43c3d6d67');\n",
              "          const dataTable =\n",
              "            await google.colab.kernel.invokeFunction('convertToInteractive',\n",
              "                                                     [key], {});\n",
              "          if (!dataTable) return;\n",
              "\n",
              "          const docLinkHtml = 'Like what you see? Visit the ' +\n",
              "            '<a target=\"_blank\" href=https://colab.research.google.com/notebooks/data_table.ipynb>data table notebook</a>'\n",
              "            + ' to learn more about interactive tables.';\n",
              "          element.innerHTML = '';\n",
              "          dataTable['output_type'] = 'display_data';\n",
              "          await google.colab.output.renderOutput(dataTable, element);\n",
              "          const docLink = document.createElement('div');\n",
              "          docLink.innerHTML = docLinkHtml;\n",
              "          element.appendChild(docLink);\n",
              "        }\n",
              "      </script>\n",
              "    </div>\n",
              "  </div>\n",
              "  "
            ]
          },
          "metadata": {},
          "execution_count": 36
        }
      ]
    },
    {
      "cell_type": "code",
      "source": [
        "def fill_avg_salary(row):\n",
        "  \n",
        "  new_row = row['Зарплата.в.месяц']\n",
        "  #print(new_row['min'])\n",
        "  return (new_row['min'] + new_row['max']) / 2"
      ],
      "metadata": {
        "id": "3ELvdh1rgejg"
      },
      "execution_count": 25,
      "outputs": []
    },
    {
      "cell_type": "code",
      "source": [
        "avg_data = grouped_data.apply(fill_avg_salary, axis = 1)\n",
        "print(avg_data)"
      ],
      "metadata": {
        "colab": {
          "base_uri": "https://localhost:8080/"
        },
        "id": "Rp3L9-SL0WMc",
        "outputId": "0c0cee8e-d975-4d6a-8d45-90f801e90364"
      },
      "execution_count": 31,
      "outputs": [
        {
          "output_type": "stream",
          "name": "stdout",
          "text": [
            "Должность\n",
            "Junior Software Engineer     675.0\n",
            "Senior Software Engineer    5250.0\n",
            "Software Engineer           2950.0\n",
            "System Architect            4000.0\n",
            "Technical Lead              3812.5\n",
            "dtype: float64\n"
          ]
        }
      ]
    },
    {
      "cell_type": "code",
      "source": [
        "grouped_data['Зарплата.в.месяц','avg'] = avg_data\n",
        "grouped_data"
      ],
      "metadata": {
        "colab": {
          "base_uri": "https://localhost:8080/",
          "height": 269
        },
        "id": "RLOnsc9c3LT-",
        "outputId": "90d5bb99-535c-4156-c2c7-6769edb50a56"
      },
      "execution_count": 37,
      "outputs": [
        {
          "output_type": "execute_result",
          "data": {
            "text/plain": [
              "                         Зарплата.в.месяц              \n",
              "                                      min   max     avg\n",
              "Должность                                              \n",
              "Junior Software Engineer              100  1250   675.0\n",
              "Senior Software Engineer             1300  9200  5250.0\n",
              "Software Engineer                     500  5400  2950.0\n",
              "System Architect                     3000  5000  4000.0\n",
              "Technical Lead                       1425  6200  3812.5"
            ],
            "text/html": [
              "\n",
              "  <div id=\"df-3bb340d8-034a-4728-8169-e3b402f50851\">\n",
              "    <div class=\"colab-df-container\">\n",
              "      <div>\n",
              "<style scoped>\n",
              "    .dataframe tbody tr th:only-of-type {\n",
              "        vertical-align: middle;\n",
              "    }\n",
              "\n",
              "    .dataframe tbody tr th {\n",
              "        vertical-align: top;\n",
              "    }\n",
              "\n",
              "    .dataframe thead tr th {\n",
              "        text-align: left;\n",
              "    }\n",
              "\n",
              "    .dataframe thead tr:last-of-type th {\n",
              "        text-align: right;\n",
              "    }\n",
              "</style>\n",
              "<table border=\"1\" class=\"dataframe\">\n",
              "  <thead>\n",
              "    <tr>\n",
              "      <th></th>\n",
              "      <th colspan=\"3\" halign=\"left\">Зарплата.в.месяц</th>\n",
              "    </tr>\n",
              "    <tr>\n",
              "      <th></th>\n",
              "      <th>min</th>\n",
              "      <th>max</th>\n",
              "      <th>avg</th>\n",
              "    </tr>\n",
              "    <tr>\n",
              "      <th>Должность</th>\n",
              "      <th></th>\n",
              "      <th></th>\n",
              "      <th></th>\n",
              "    </tr>\n",
              "  </thead>\n",
              "  <tbody>\n",
              "    <tr>\n",
              "      <th>Junior Software Engineer</th>\n",
              "      <td>100</td>\n",
              "      <td>1250</td>\n",
              "      <td>675.0</td>\n",
              "    </tr>\n",
              "    <tr>\n",
              "      <th>Senior Software Engineer</th>\n",
              "      <td>1300</td>\n",
              "      <td>9200</td>\n",
              "      <td>5250.0</td>\n",
              "    </tr>\n",
              "    <tr>\n",
              "      <th>Software Engineer</th>\n",
              "      <td>500</td>\n",
              "      <td>5400</td>\n",
              "      <td>2950.0</td>\n",
              "    </tr>\n",
              "    <tr>\n",
              "      <th>System Architect</th>\n",
              "      <td>3000</td>\n",
              "      <td>5000</td>\n",
              "      <td>4000.0</td>\n",
              "    </tr>\n",
              "    <tr>\n",
              "      <th>Technical Lead</th>\n",
              "      <td>1425</td>\n",
              "      <td>6200</td>\n",
              "      <td>3812.5</td>\n",
              "    </tr>\n",
              "  </tbody>\n",
              "</table>\n",
              "</div>\n",
              "      <button class=\"colab-df-convert\" onclick=\"convertToInteractive('df-3bb340d8-034a-4728-8169-e3b402f50851')\"\n",
              "              title=\"Convert this dataframe to an interactive table.\"\n",
              "              style=\"display:none;\">\n",
              "        \n",
              "  <svg xmlns=\"http://www.w3.org/2000/svg\" height=\"24px\"viewBox=\"0 0 24 24\"\n",
              "       width=\"24px\">\n",
              "    <path d=\"M0 0h24v24H0V0z\" fill=\"none\"/>\n",
              "    <path d=\"M18.56 5.44l.94 2.06.94-2.06 2.06-.94-2.06-.94-.94-2.06-.94 2.06-2.06.94zm-11 1L8.5 8.5l.94-2.06 2.06-.94-2.06-.94L8.5 2.5l-.94 2.06-2.06.94zm10 10l.94 2.06.94-2.06 2.06-.94-2.06-.94-.94-2.06-.94 2.06-2.06.94z\"/><path d=\"M17.41 7.96l-1.37-1.37c-.4-.4-.92-.59-1.43-.59-.52 0-1.04.2-1.43.59L10.3 9.45l-7.72 7.72c-.78.78-.78 2.05 0 2.83L4 21.41c.39.39.9.59 1.41.59.51 0 1.02-.2 1.41-.59l7.78-7.78 2.81-2.81c.8-.78.8-2.07 0-2.86zM5.41 20L4 18.59l7.72-7.72 1.47 1.35L5.41 20z\"/>\n",
              "  </svg>\n",
              "      </button>\n",
              "      \n",
              "  <style>\n",
              "    .colab-df-container {\n",
              "      display:flex;\n",
              "      flex-wrap:wrap;\n",
              "      gap: 12px;\n",
              "    }\n",
              "\n",
              "    .colab-df-convert {\n",
              "      background-color: #E8F0FE;\n",
              "      border: none;\n",
              "      border-radius: 50%;\n",
              "      cursor: pointer;\n",
              "      display: none;\n",
              "      fill: #1967D2;\n",
              "      height: 32px;\n",
              "      padding: 0 0 0 0;\n",
              "      width: 32px;\n",
              "    }\n",
              "\n",
              "    .colab-df-convert:hover {\n",
              "      background-color: #E2EBFA;\n",
              "      box-shadow: 0px 1px 2px rgba(60, 64, 67, 0.3), 0px 1px 3px 1px rgba(60, 64, 67, 0.15);\n",
              "      fill: #174EA6;\n",
              "    }\n",
              "\n",
              "    [theme=dark] .colab-df-convert {\n",
              "      background-color: #3B4455;\n",
              "      fill: #D2E3FC;\n",
              "    }\n",
              "\n",
              "    [theme=dark] .colab-df-convert:hover {\n",
              "      background-color: #434B5C;\n",
              "      box-shadow: 0px 1px 3px 1px rgba(0, 0, 0, 0.15);\n",
              "      filter: drop-shadow(0px 1px 2px rgba(0, 0, 0, 0.3));\n",
              "      fill: #FFFFFF;\n",
              "    }\n",
              "  </style>\n",
              "\n",
              "      <script>\n",
              "        const buttonEl =\n",
              "          document.querySelector('#df-3bb340d8-034a-4728-8169-e3b402f50851 button.colab-df-convert');\n",
              "        buttonEl.style.display =\n",
              "          google.colab.kernel.accessAllowed ? 'block' : 'none';\n",
              "\n",
              "        async function convertToInteractive(key) {\n",
              "          const element = document.querySelector('#df-3bb340d8-034a-4728-8169-e3b402f50851');\n",
              "          const dataTable =\n",
              "            await google.colab.kernel.invokeFunction('convertToInteractive',\n",
              "                                                     [key], {});\n",
              "          if (!dataTable) return;\n",
              "\n",
              "          const docLinkHtml = 'Like what you see? Visit the ' +\n",
              "            '<a target=\"_blank\" href=https://colab.research.google.com/notebooks/data_table.ipynb>data table notebook</a>'\n",
              "            + ' to learn more about interactive tables.';\n",
              "          element.innerHTML = '';\n",
              "          dataTable['output_type'] = 'display_data';\n",
              "          await google.colab.output.renderOutput(dataTable, element);\n",
              "          const docLink = document.createElement('div');\n",
              "          docLink.innerHTML = docLinkHtml;\n",
              "          element.appendChild(docLink);\n",
              "        }\n",
              "      </script>\n",
              "    </div>\n",
              "  </div>\n",
              "  "
            ]
          },
          "metadata": {},
          "execution_count": 37
        }
      ]
    },
    {
      "cell_type": "code",
      "source": [
        "grouped_data['Зарплата.в.месяц','avg'].describe()"
      ],
      "metadata": {
        "colab": {
          "base_uri": "https://localhost:8080/"
        },
        "id": "rt8ZYJON5Q2W",
        "outputId": "19fd8424-1223-4da9-ee8a-f868b3ba13cd"
      },
      "execution_count": 39,
      "outputs": [
        {
          "output_type": "execute_result",
          "data": {
            "text/plain": [
              "count       5.000000\n",
              "mean     3337.500000\n",
              "std      1700.091909\n",
              "min       675.000000\n",
              "25%      2950.000000\n",
              "50%      3812.500000\n",
              "75%      4000.000000\n",
              "max      5250.000000\n",
              "Name: (Зарплата.в.месяц, avg), dtype: float64"
            ]
          },
          "metadata": {},
          "execution_count": 39
        }
      ]
    },
    {
      "cell_type": "code",
      "source": [
        "grouped_data.to_csv('grouped_data.csv')"
      ],
      "metadata": {
        "id": "3-pP3CiQ5X_I"
      },
      "execution_count": 40,
      "outputs": []
    }
  ]
}