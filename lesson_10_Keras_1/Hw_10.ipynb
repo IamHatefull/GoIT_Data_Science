{
  "nbformat": 4,
  "nbformat_minor": 0,
  "metadata": {
    "colab": {
      "provenance": [],
      "collapsed_sections": []
    },
    "kernelspec": {
      "name": "python3",
      "display_name": "Python 3"
    },
    "language_info": {
      "name": "python"
    }
  },
  "cells": [
    {
      "cell_type": "code",
      "source": [
        "import numpy as np\n",
        "import pandas as pd\n",
        "import matplotlib.pyplot as plt\n",
        "\n",
        "import tensorflow as tf\n",
        "\n",
        "from tensorflow import keras\n",
        "from keras.models import Sequential\n",
        "from keras.layers import Dense, Flatten\n",
        "from keras import optimizers\n",
        "from keras import losses\n",
        "from keras import metrics"
      ],
      "metadata": {
        "id": "gGIgo6tPyxR_"
      },
      "execution_count": 1,
      "outputs": []
    },
    {
      "cell_type": "code",
      "execution_count": 2,
      "metadata": {
        "id": "iBCIX8tux_RE"
      },
      "outputs": [],
      "source": [
        "from keras.datasets import fashion_mnist"
      ]
    },
    {
      "cell_type": "code",
      "source": [
        "(X_train, y_train), (X_test, y_test) = fashion_mnist.load_data()"
      ],
      "metadata": {
        "id": "kmGSK4_nyZr3",
        "colab": {
          "base_uri": "https://localhost:8080/"
        },
        "outputId": "424ee4d7-63d8-49f3-ff2a-d21c0572aaca"
      },
      "execution_count": 3,
      "outputs": [
        {
          "output_type": "stream",
          "name": "stdout",
          "text": [
            "Downloading data from https://storage.googleapis.com/tensorflow/tf-keras-datasets/train-labels-idx1-ubyte.gz\n",
            "32768/29515 [=================================] - 0s 0us/step\n",
            "40960/29515 [=========================================] - 0s 0us/step\n",
            "Downloading data from https://storage.googleapis.com/tensorflow/tf-keras-datasets/train-images-idx3-ubyte.gz\n",
            "26427392/26421880 [==============================] - 0s 0us/step\n",
            "26435584/26421880 [==============================] - 0s 0us/step\n",
            "Downloading data from https://storage.googleapis.com/tensorflow/tf-keras-datasets/t10k-labels-idx1-ubyte.gz\n",
            "16384/5148 [===============================================================================================] - 0s 0us/step\n",
            "Downloading data from https://storage.googleapis.com/tensorflow/tf-keras-datasets/t10k-images-idx3-ubyte.gz\n",
            "4423680/4422102 [==============================] - 0s 0us/step\n",
            "4431872/4422102 [==============================] - 0s 0us/step\n"
          ]
        }
      ]
    },
    {
      "cell_type": "code",
      "source": [
        "X_train, X_test = X_train / 255., X_test / 255."
      ],
      "metadata": {
        "id": "PVgicVYqxlMK"
      },
      "execution_count": 4,
      "outputs": []
    },
    {
      "cell_type": "code",
      "source": [
        "model = Sequential([\n",
        "    Flatten(input_shape=(28, 28)),\n",
        "    #Dense(784, activation='relu'),\n",
        "    Dense(128, activation='relu'),\n",
        "    #Dense(1024, activation='sigmoid'),\n",
        "    Dense(10, activation='softmax'),\n",
        "])"
      ],
      "metadata": {
        "id": "wPsO2Piiqj0W"
      },
      "execution_count": 46,
      "outputs": []
    },
    {
      "cell_type": "code",
      "source": [
        "model.compile(\n",
        "    optimizer='adam',\n",
        "    loss='sparse_categorical_crossentropy',\n",
        "    metrics=['accuracy']\n",
        ")"
      ],
      "metadata": {
        "id": "_zgyKQOTxwqv"
      },
      "execution_count": 47,
      "outputs": []
    },
    {
      "cell_type": "code",
      "source": [
        "model.summary()"
      ],
      "metadata": {
        "colab": {
          "base_uri": "https://localhost:8080/"
        },
        "id": "gOnxslEwxzro",
        "outputId": "5f6074b8-dd24-4da4-af86-7fcf111bb76f"
      },
      "execution_count": 48,
      "outputs": [
        {
          "output_type": "stream",
          "name": "stdout",
          "text": [
            "Model: \"sequential_6\"\n",
            "_________________________________________________________________\n",
            " Layer (type)                Output Shape              Param #   \n",
            "=================================================================\n",
            " flatten_6 (Flatten)         (None, 784)               0         \n",
            "                                                                 \n",
            " dense_16 (Dense)            (None, 128)               100480    \n",
            "                                                                 \n",
            " dense_17 (Dense)            (None, 10)                1290      \n",
            "                                                                 \n",
            "=================================================================\n",
            "Total params: 101,770\n",
            "Trainable params: 101,770\n",
            "Non-trainable params: 0\n",
            "_________________________________________________________________\n"
          ]
        }
      ]
    },
    {
      "cell_type": "code",
      "source": [
        "x_val = X_train[:10000]\n",
        "partial_x_train = X_train[10000:]\n",
        "\n",
        "y_val = y_train[:10000]\n",
        "partial_y_train = y_train[10000:]\n",
        "\n",
        "history = model.fit(\n",
        "    X_train,\n",
        "    y_train,\n",
        "    epochs=30,\n",
        "    batch_size=784,\n",
        "    validation_data=(x_val, y_val)\n",
        ")"
      ],
      "metadata": {
        "colab": {
          "base_uri": "https://localhost:8080/"
        },
        "id": "rKZ6DMBvx4NX",
        "outputId": "6b194c5f-2233-4156-8748-55ed920d8ddb"
      },
      "execution_count": 52,
      "outputs": [
        {
          "output_type": "stream",
          "name": "stdout",
          "text": [
            "Epoch 1/30\n",
            "77/77 [==============================] - 1s 17ms/step - loss: 0.2956 - accuracy: 0.8939 - val_loss: 0.2756 - val_accuracy: 0.9010\n",
            "Epoch 2/30\n",
            "77/77 [==============================] - 1s 13ms/step - loss: 0.2809 - accuracy: 0.8994 - val_loss: 0.2681 - val_accuracy: 0.9025\n",
            "Epoch 3/30\n",
            "77/77 [==============================] - 1s 13ms/step - loss: 0.2795 - accuracy: 0.8997 - val_loss: 0.2718 - val_accuracy: 0.9039\n",
            "Epoch 4/30\n",
            "77/77 [==============================] - 1s 15ms/step - loss: 0.2713 - accuracy: 0.9032 - val_loss: 0.2613 - val_accuracy: 0.9062\n",
            "Epoch 5/30\n",
            "77/77 [==============================] - 1s 13ms/step - loss: 0.2691 - accuracy: 0.9036 - val_loss: 0.2512 - val_accuracy: 0.9082\n",
            "Epoch 6/30\n",
            "77/77 [==============================] - 1s 14ms/step - loss: 0.2613 - accuracy: 0.9058 - val_loss: 0.2479 - val_accuracy: 0.9113\n",
            "Epoch 7/30\n",
            "77/77 [==============================] - 1s 13ms/step - loss: 0.2581 - accuracy: 0.9073 - val_loss: 0.2417 - val_accuracy: 0.9135\n",
            "Epoch 8/30\n",
            "77/77 [==============================] - 1s 14ms/step - loss: 0.2505 - accuracy: 0.9108 - val_loss: 0.2467 - val_accuracy: 0.9129\n",
            "Epoch 9/30\n",
            "77/77 [==============================] - 1s 13ms/step - loss: 0.2528 - accuracy: 0.9096 - val_loss: 0.2477 - val_accuracy: 0.9116\n",
            "Epoch 10/30\n",
            "77/77 [==============================] - 1s 13ms/step - loss: 0.2447 - accuracy: 0.9121 - val_loss: 0.2323 - val_accuracy: 0.9170\n",
            "Epoch 11/30\n",
            "77/77 [==============================] - 1s 14ms/step - loss: 0.2399 - accuracy: 0.9144 - val_loss: 0.2274 - val_accuracy: 0.9196\n",
            "Epoch 12/30\n",
            "77/77 [==============================] - 1s 14ms/step - loss: 0.2391 - accuracy: 0.9137 - val_loss: 0.2360 - val_accuracy: 0.9126\n",
            "Epoch 13/30\n",
            "77/77 [==============================] - 1s 13ms/step - loss: 0.2379 - accuracy: 0.9150 - val_loss: 0.2256 - val_accuracy: 0.9194\n",
            "Epoch 14/30\n",
            "77/77 [==============================] - 1s 13ms/step - loss: 0.2332 - accuracy: 0.9167 - val_loss: 0.2143 - val_accuracy: 0.9231\n",
            "Epoch 15/30\n",
            "77/77 [==============================] - 1s 13ms/step - loss: 0.2295 - accuracy: 0.9168 - val_loss: 0.2245 - val_accuracy: 0.9202\n",
            "Epoch 16/30\n",
            "77/77 [==============================] - 1s 13ms/step - loss: 0.2277 - accuracy: 0.9180 - val_loss: 0.2137 - val_accuracy: 0.9240\n",
            "Epoch 17/30\n",
            "77/77 [==============================] - 1s 13ms/step - loss: 0.2235 - accuracy: 0.9204 - val_loss: 0.2143 - val_accuracy: 0.9242\n",
            "Epoch 18/30\n",
            "77/77 [==============================] - 1s 13ms/step - loss: 0.2209 - accuracy: 0.9208 - val_loss: 0.2102 - val_accuracy: 0.9246\n",
            "Epoch 19/30\n",
            "77/77 [==============================] - 1s 14ms/step - loss: 0.2175 - accuracy: 0.9219 - val_loss: 0.2049 - val_accuracy: 0.9258\n",
            "Epoch 20/30\n",
            "77/77 [==============================] - 1s 14ms/step - loss: 0.2180 - accuracy: 0.9221 - val_loss: 0.2109 - val_accuracy: 0.9248\n",
            "Epoch 21/30\n",
            "77/77 [==============================] - 1s 13ms/step - loss: 0.2120 - accuracy: 0.9248 - val_loss: 0.1977 - val_accuracy: 0.9291\n",
            "Epoch 22/30\n",
            "77/77 [==============================] - 1s 13ms/step - loss: 0.2093 - accuracy: 0.9253 - val_loss: 0.2036 - val_accuracy: 0.9276\n",
            "Epoch 23/30\n",
            "77/77 [==============================] - 1s 13ms/step - loss: 0.2066 - accuracy: 0.9262 - val_loss: 0.1916 - val_accuracy: 0.9315\n",
            "Epoch 24/30\n",
            "77/77 [==============================] - 1s 13ms/step - loss: 0.2068 - accuracy: 0.9260 - val_loss: 0.1907 - val_accuracy: 0.9301\n",
            "Epoch 25/30\n",
            "77/77 [==============================] - 1s 13ms/step - loss: 0.2010 - accuracy: 0.9290 - val_loss: 0.1952 - val_accuracy: 0.9292\n",
            "Epoch 26/30\n",
            "77/77 [==============================] - 1s 13ms/step - loss: 0.1986 - accuracy: 0.9291 - val_loss: 0.1854 - val_accuracy: 0.9353\n",
            "Epoch 27/30\n",
            "77/77 [==============================] - 1s 14ms/step - loss: 0.1982 - accuracy: 0.9300 - val_loss: 0.1855 - val_accuracy: 0.9328\n",
            "Epoch 28/30\n",
            "77/77 [==============================] - 1s 14ms/step - loss: 0.1955 - accuracy: 0.9298 - val_loss: 0.1830 - val_accuracy: 0.9359\n",
            "Epoch 29/30\n",
            "77/77 [==============================] - 1s 13ms/step - loss: 0.1921 - accuracy: 0.9324 - val_loss: 0.1841 - val_accuracy: 0.9341\n",
            "Epoch 30/30\n",
            "77/77 [==============================] - 1s 15ms/step - loss: 0.1903 - accuracy: 0.9324 - val_loss: 0.1873 - val_accuracy: 0.9331\n"
          ]
        }
      ]
    },
    {
      "cell_type": "code",
      "source": [
        "history_dict = history.history\n",
        "\n",
        "epochs = range(1, len(history_dict['accuracy']) + 1)\n",
        "\n",
        "plt.plot(epochs, history_dict['loss'], 'bo', label='Training loss')\n",
        "plt.plot(epochs, history_dict['val_loss'], 'b', label='Validation loss')\n",
        "plt.title('Training and validation loss')\n",
        "plt.xlabel('Epochs')\n",
        "plt.ylabel('Loss')\n",
        "plt.legend()\n",
        "plt.show()\n",
        "\n",
        "plt.clf()\n",
        "val_acc_values = history_dict['val_accuracy']\n",
        "plt.plot(epochs, history_dict['accuracy'], 'bo', label='Training acc')\n",
        "plt.plot(epochs, history_dict['val_accuracy'], 'b', label='Validation acc')\n",
        "plt.title('Training and validation accuracy')\n",
        "plt.xlabel('Epochs')\n",
        "plt.ylabel('Loss')\n",
        "plt.legend()\n",
        "plt.show()"
      ],
      "metadata": {
        "colab": {
          "base_uri": "https://localhost:8080/",
          "height": 573
        },
        "id": "27D4d_HM0OFQ",
        "outputId": "002ae4f8-f52e-4f0d-faf0-3c6e7450b2e2"
      },
      "execution_count": 53,
      "outputs": [
        {
          "output_type": "display_data",
          "data": {
            "text/plain": [
              "<Figure size 432x288 with 1 Axes>"
            ],
            "image/png": "[encoded data removed]"
          },
          "metadata": {
            "needs_background": "light"
          }
        },
        {
          "output_type": "display_data",
          "data": {
            "text/plain": [
              "<Figure size 432x288 with 1 Axes>"
            ],
            "image/png": "[encoded data removed]"
          },
          "metadata": {
            "needs_background": "light"
          }
        }
      ]
    },
    {
      "cell_type": "code",
      "source": [
        "test_loss, test_acc = model.evaluate(X_test, y_test)"
      ],
      "metadata": {
        "colab": {
          "base_uri": "https://localhost:8080/"
        },
        "id": "-U4U0YoD0Sz2",
        "outputId": "d00689d8-74c3-4e0b-eaf9-076be44afcb5"
      },
      "execution_count": 54,
      "outputs": [
        {
          "output_type": "stream",
          "name": "stdout",
          "text": [
            "313/313 [==============================] - 1s 2ms/step - loss: 0.3369 - accuracy: 0.8846\n"
          ]
        }
      ]
    }
  ]
}